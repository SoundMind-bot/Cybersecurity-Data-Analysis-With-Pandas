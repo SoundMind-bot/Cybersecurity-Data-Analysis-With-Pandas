{
 "cells": [
  {
   "cell_type": "code",
   "execution_count": null,
   "id": "514190fd-c183-46cd-ba96-5f349ba2d9ba",
   "metadata": {},
   "outputs": [],
   "source": [
    "# Install Pandas"
   ]
  },
  {
   "cell_type": "code",
   "execution_count": 4,
   "id": "d5c55cae-f920-49fa-a72f-3775d4cb93d6",
   "metadata": {},
   "outputs": [
    {
     "name": "stdout",
     "output_type": "stream",
     "text": [
      "Requirement already satisfied: pandas in c:\\users\\frank\\pycharmprojects\\pythonproject\\.venv\\lib\\site-packages (2.2.3)\n",
      "Requirement already satisfied: numpy>=1.26.0 in c:\\users\\frank\\pycharmprojects\\pythonproject\\.venv\\lib\\site-packages (from pandas) (2.2.4)\n",
      "Requirement already satisfied: python-dateutil>=2.8.2 in c:\\users\\frank\\pycharmprojects\\pythonproject\\.venv\\lib\\site-packages (from pandas) (2.9.0.post0)\n",
      "Requirement already satisfied: pytz>=2020.1 in c:\\users\\frank\\pycharmprojects\\pythonproject\\.venv\\lib\\site-packages (from pandas) (2025.1)\n",
      "Requirement already satisfied: tzdata>=2022.7 in c:\\users\\frank\\pycharmprojects\\pythonproject\\.venv\\lib\\site-packages (from pandas) (2025.1)\n",
      "Requirement already satisfied: six>=1.5 in c:\\users\\frank\\pycharmprojects\\pythonproject\\.venv\\lib\\site-packages (from python-dateutil>=2.8.2->pandas) (1.16.0)\n"
     ]
    }
   ],
   "source": [
    "!pip install pandas "
   ]
  },
  {
   "cell_type": "code",
   "execution_count": null,
   "id": "0bf092a1-10ff-454d-b6c1-997043ecae64",
   "metadata": {},
   "outputs": [],
   "source": [
    "# Import Pandas"
   ]
  },
  {
   "cell_type": "code",
   "execution_count": 5,
   "id": "c9182242-b4df-4b3b-9fe3-269cb44b8059",
   "metadata": {},
   "outputs": [],
   "source": [
    "import pandas as pd"
   ]
  },
  {
   "cell_type": "code",
   "execution_count": 6,
   "id": "2eb3da32-5e26-4798-8580-ba476e15aa25",
   "metadata": {},
   "outputs": [],
   "source": [
    "#Load dataset from GitHub"
   ]
  },
  {
   "cell_type": "code",
   "execution_count": 7,
   "id": "5ac6fe13-2efd-42d2-88c2-1d0873dd6ae1",
   "metadata": {},
   "outputs": [],
   "source": [
    "df = pd.read_csv(\"C:/network_traffic_data.csv\" )"
   ]
  },
  {
   "cell_type": "code",
   "execution_count": null,
   "id": "e6ec46ef-5228-4287-bc28-fc97d0010534",
   "metadata": {},
   "outputs": [],
   "source": [
    "# Display the first 5 rows"
   ]
  },
  {
   "cell_type": "code",
   "execution_count": 8,
   "id": "aaf19d44-01c1-424c-9382-e53db6f9bb1c",
   "metadata": {},
   "outputs": [
    {
     "name": "stdout",
     "output_type": "stream",
     "text": [
      "             Timestamp     Source_IP  Destination_IP Protocol   Port  \\\n",
      "0  2025-03-19 13:04:10     10.0.0.15    192.168.1.20      TCP    NaN   \n",
      "1  2025-03-19 13:03:40  192.168.1.13  172.217.169.46     ICMP  443.0   \n",
      "2  2025-03-19 13:03:10      10.0.0.5    203.0.113.99     HTTP  443.0   \n",
      "3  2025-03-19 13:02:40      10.0.0.9    192.168.1.20      TCP    NaN   \n",
      "4  2025-03-19 13:02:10   192.168.1.4  172.217.169.46      FTP    NaN   \n",
      "\n",
      "   Bytes_Sent  Bytes_Received   Status Threat_Level  \n",
      "0        5411            8989  Blocked          Low  \n",
      "1        4999           11808  Allowed       Medium  \n",
      "2        6360           10852  Allowed       Medium  \n",
      "3        4011           14314  Blocked          Low  \n",
      "4        5254            8718  Blocked       Medium  \n"
     ]
    }
   ],
   "source": [
    "print(df.head())"
   ]
  },
  {
   "cell_type": "code",
   "execution_count": null,
   "id": "71fa7caf-78e7-4ffb-83f3-2a86f6a8f526",
   "metadata": {},
   "outputs": [],
   "source": [
    "# Check the number of rows and columns"
   ]
  },
  {
   "cell_type": "code",
   "execution_count": 11,
   "id": "6f703195-4177-4a31-a67f-9548d69a1014",
   "metadata": {},
   "outputs": [
    {
     "name": "stdout",
     "output_type": "stream",
     "text": [
      "Dataset Shape: (1000, 9)\n"
     ]
    }
   ],
   "source": [
    "print(f\"Dataset Shape: {df.shape}\")"
   ]
  },
  {
   "cell_type": "code",
   "execution_count": null,
   "id": "c7432002-2ce4-46ef-b06d-a1cbf08fbe7f",
   "metadata": {},
   "outputs": [],
   "source": [
    "# Get columns name"
   ]
  },
  {
   "cell_type": "code",
   "execution_count": 12,
   "id": "80011e82-f5a2-4285-82ae-dbe3c06b957d",
   "metadata": {},
   "outputs": [
    {
     "name": "stdout",
     "output_type": "stream",
     "text": [
      "\n",
      "Column Names:\n",
      "Index(['Timestamp', 'Source_IP', 'Destination_IP', 'Protocol', 'Port',\n",
      "       'Bytes_Sent', 'Bytes_Received', 'Status', 'Threat_Level'],\n",
      "      dtype='object')\n"
     ]
    }
   ],
   "source": [
    "print(\"\\nColumn Names:\")\n",
    "print(df.columns)"
   ]
  },
  {
   "cell_type": "raw",
   "id": "beef70aa-ec2e-4309-95cd-21e9e52e88d4",
   "metadata": {},
   "source": [
    "# Display basic info about the dataset"
   ]
  },
  {
   "cell_type": "code",
   "execution_count": 13,
   "id": "bf2ffd17-b7df-46bf-93a1-b1b979d12b6a",
   "metadata": {},
   "outputs": [
    {
     "name": "stdout",
     "output_type": "stream",
     "text": [
      "\n",
      "Dataset Info:\n",
      "<class 'pandas.core.frame.DataFrame'>\n",
      "RangeIndex: 1000 entries, 0 to 999\n",
      "Data columns (total 9 columns):\n",
      " #   Column          Non-Null Count  Dtype  \n",
      "---  ------          --------------  -----  \n",
      " 0   Timestamp       1000 non-null   object \n",
      " 1   Source_IP       1000 non-null   object \n",
      " 2   Destination_IP  1000 non-null   object \n",
      " 3   Protocol        1000 non-null   object \n",
      " 4   Port            874 non-null    float64\n",
      " 5   Bytes_Sent      1000 non-null   int64  \n",
      " 6   Bytes_Received  1000 non-null   int64  \n",
      " 7   Status          1000 non-null   object \n",
      " 8   Threat_Level    1000 non-null   object \n",
      "dtypes: float64(1), int64(2), object(6)\n",
      "memory usage: 70.4+ KB\n",
      "None\n"
     ]
    }
   ],
   "source": [
    "print(\"\\nDataset Info:\")\n",
    "print(df.info())"
   ]
  },
  {
   "cell_type": "code",
   "execution_count": null,
   "id": "16f6b8fa-f1a0-4873-bb68-51c9cbb79c9c",
   "metadata": {},
   "outputs": [],
   "source": [
    "# Show summary statistics"
   ]
  },
  {
   "cell_type": "code",
   "execution_count": 61,
   "id": "66a2e757-2d2b-4dfb-9686-f09160e864ac",
   "metadata": {},
   "outputs": [
    {
     "name": "stdout",
     "output_type": "stream",
     "text": [
      "\n",
      "Summary Statistics:\n",
      "              Port   Bytes_Sent  Bytes_Received\n",
      "count   874.000000  1000.000000     1000.000000\n",
      "mean   1819.739130  5143.572000     7562.659000\n",
      "std    2899.374632  2808.256143     4240.206295\n",
      "min      21.000000   106.000000      102.000000\n",
      "25%      22.000000  2857.000000     4025.500000\n",
      "50%      80.000000  5224.000000     7584.500000\n",
      "75%    3389.000000  7487.750000    11147.750000\n",
      "max    8080.000000  9984.000000    14977.000000\n"
     ]
    }
   ],
   "source": [
    "print(\"\\nSummary Statistics:\")\n",
    "print(df.describe())"
   ]
  },
  {
   "cell_type": "code",
   "execution_count": null,
   "id": "df3bdc0a-4562-4c6c-b95a-17c4a505dedf",
   "metadata": {},
   "outputs": [],
   "source": [
    "# Select important column"
   ]
  },
  {
   "cell_type": "code",
   "execution_count": 14,
   "id": "f6d3cd42-3b69-4cc8-b8e2-68f23cf6b2c3",
   "metadata": {},
   "outputs": [],
   "source": [
    "selected_columns = df[[\"Timestamp\", \"Source_IP\", \"Destination_IP\", \"Status\"]]"
   ]
  },
  {
   "cell_type": "code",
   "execution_count": null,
   "id": "31a030df-8f31-4bc4-9f16-c0bd9b93e259",
   "metadata": {},
   "outputs": [],
   "source": [
    "# Display the first few rows"
   ]
  },
  {
   "cell_type": "code",
   "execution_count": 15,
   "id": "8e9b5fb8-a1fd-4e4b-8672-1fb6bad14242",
   "metadata": {},
   "outputs": [
    {
     "name": "stdout",
     "output_type": "stream",
     "text": [
      "             Timestamp     Source_IP  Destination_IP   Status\n",
      "0  2025-03-19 13:04:10     10.0.0.15    192.168.1.20  Blocked\n",
      "1  2025-03-19 13:03:40  192.168.1.13  172.217.169.46  Allowed\n",
      "2  2025-03-19 13:03:10      10.0.0.5    203.0.113.99  Allowed\n",
      "3  2025-03-19 13:02:40      10.0.0.9    192.168.1.20  Blocked\n",
      "4  2025-03-19 13:02:10   192.168.1.4  172.217.169.46  Blocked\n"
     ]
    }
   ],
   "source": [
    "print(selected_columns.head())"
   ]
  },
  {
   "cell_type": "code",
   "execution_count": null,
   "id": "ed16d57f-634b-4089-9ea8-0aed9d773a07",
   "metadata": {},
   "outputs": [],
   "source": [
    "# Store a single column as a series"
   ]
  },
  {
   "cell_type": "code",
   "execution_count": 18,
   "id": "602aeac8-0ef4-4271-a047-bb399eac8d05",
   "metadata": {},
   "outputs": [],
   "source": [
    "source_ips = df[\"Source_IP\"]"
   ]
  },
  {
   "cell_type": "code",
   "execution_count": 19,
   "id": "866c1e04-d450-4a23-bc41-fc79c2b1d566",
   "metadata": {},
   "outputs": [],
   "source": [
    "# Store multiple columns in a Dataframe"
   ]
  },
  {
   "cell_type": "code",
   "execution_count": 20,
   "id": "8af58032-3f83-4a9e-8b2a-5a52532b06e3",
   "metadata": {},
   "outputs": [],
   "source": [
    "network_activity = df[[\"Source_IP\", \"Destination_IP\", \"Protocol\", \"Threat_Level\"]]"
   ]
  },
  {
   "cell_type": "code",
   "execution_count": null,
   "id": "01696717-27d9-417c-9fec-3d59346c0447",
   "metadata": {},
   "outputs": [],
   "source": [
    "# Display the first few rows"
   ]
  },
  {
   "cell_type": "code",
   "execution_count": 21,
   "id": "7da61266-30b8-47a5-9b7f-1735b31d0e79",
   "metadata": {},
   "outputs": [
    {
     "name": "stdout",
     "output_type": "stream",
     "text": [
      "      Source_IP  Destination_IP Protocol Threat_Level\n",
      "0     10.0.0.15    192.168.1.20      TCP          Low\n",
      "1  192.168.1.13  172.217.169.46     ICMP       Medium\n",
      "2      10.0.0.5    203.0.113.99     HTTP       Medium\n",
      "3      10.0.0.9    192.168.1.20      TCP          Low\n",
      "4   192.168.1.4  172.217.169.46      FTP       Medium\n"
     ]
    }
   ],
   "source": [
    "print(network_activity.head())"
   ]
  },
  {
   "cell_type": "code",
   "execution_count": null,
   "id": "95759769-b2ad-4796-822e-0a9a849185cf",
   "metadata": {},
   "outputs": [],
   "source": [
    "# Filter only blocked traffic"
   ]
  },
  {
   "cell_type": "code",
   "execution_count": 22,
   "id": "36396a4f-c22a-4ebf-a5d7-53d6c0456092",
   "metadata": {},
   "outputs": [],
   "source": [
    "blocked_traffic = df[df[\"Status\"] == \"Blocked\"]"
   ]
  },
  {
   "cell_type": "code",
   "execution_count": null,
   "id": "505b5296-df98-43e7-9fbc-f083a6f55551",
   "metadata": {},
   "outputs": [],
   "source": [
    "# Select key details for analysis"
   ]
  },
  {
   "cell_type": "code",
   "execution_count": 23,
   "id": "ce63f080-d93b-4708-bb2f-03964db08713",
   "metadata": {},
   "outputs": [],
   "source": [
    "blocked_summary = blocked_traffic[[\"Timestamp\", \"Source_IP\", \"Destination_IP\", \"Threat_Level\"]]"
   ]
  },
  {
   "cell_type": "code",
   "execution_count": null,
   "id": "a09dca1a-e5e5-403e-9821-54c5aa66641e",
   "metadata": {},
   "outputs": [],
   "source": [
    "#Display first few rows"
   ]
  },
  {
   "cell_type": "code",
   "execution_count": 24,
   "id": "0139d60a-f9b5-4ac2-8113-44fe6942b3ff",
   "metadata": {},
   "outputs": [
    {
     "name": "stdout",
     "output_type": "stream",
     "text": [
      "              Timestamp    Source_IP  Destination_IP Threat_Level\n",
      "0   2025-03-19 13:04:10    10.0.0.15    192.168.1.20          Low\n",
      "3   2025-03-19 13:02:40     10.0.0.9    192.168.1.20          Low\n",
      "4   2025-03-19 13:02:10  192.168.1.4  172.217.169.46       Medium\n",
      "9   2025-03-19 12:59:40    10.0.0.43        10.0.0.5          Low\n",
      "10  2025-03-19 12:59:10    10.0.0.33    203.0.113.99       Medium\n"
     ]
    }
   ],
   "source": [
    "print(blocked_summary.head())"
   ]
  },
  {
   "cell_type": "code",
   "execution_count": null,
   "id": "efd6ab9d-58e7-48a9-bf3e-ff8b28eddb3a",
   "metadata": {},
   "outputs": [],
   "source": [
    "# filter high-risk (Critical) traffic"
   ]
  },
  {
   "cell_type": "code",
   "execution_count": 75,
   "id": "6bdf4df3-0a12-4be3-bf4f-b8014aee1522",
   "metadata": {},
   "outputs": [],
   "source": [
    "high_risk_traffic = df[df[\"Threat_Level\"] == \"Critical\"]"
   ]
  },
  {
   "cell_type": "code",
   "execution_count": null,
   "id": "19731725-e7b5-4280-9c64-0f2cf1b9a963",
   "metadata": {},
   "outputs": [],
   "source": [
    "# Display summary"
   ]
  },
  {
   "cell_type": "code",
   "execution_count": 77,
   "id": "29377c3f-4948-43e9-8ddf-baa5ce200225",
   "metadata": {},
   "outputs": [
    {
     "name": "stdout",
     "output_type": "stream",
     "text": [
      "               Timestamp     Source_IP  Destination_IP Protocol    Port  \\\n",
      "59   2025-03-19 12:34:40     10.0.0.47    192.168.1.20     ICMP     NaN   \n",
      "96   2025-03-19 12:16:10  192.168.1.35    203.0.113.99      FTP  8080.0   \n",
      "134  2025-03-19 11:57:10  192.168.1.17  172.217.169.46      DNS    22.0   \n",
      "150  2025-03-19 11:49:10  192.168.1.42        10.0.0.5     HTTP    53.0   \n",
      "209  2025-03-19 11:19:40     10.0.0.17    203.0.113.99      TCP  3389.0   \n",
      "\n",
      "     Bytes_Sent  Bytes_Received   Status Threat_Level  \n",
      "59         5885             463  Allowed     Critical  \n",
      "96         9371            7189  Allowed     Critical  \n",
      "134        6714           13124  Blocked     Critical  \n",
      "150        2702             634  Allowed     Critical  \n",
      "209        5085           10014  Blocked     Critical  \n"
     ]
    }
   ],
   "source": [
    "print(high_risk_traffic.head())"
   ]
  },
  {
   "cell_type": "code",
   "execution_count": null,
   "id": "46b3dfd5-88e6-4008-871b-a51858613b81",
   "metadata": {},
   "outputs": [],
   "source": [
    "# Filter traffic where Bytes_Sent is greater than 5000"
   ]
  },
  {
   "cell_type": "code",
   "execution_count": 25,
   "id": "8ee93161-219f-483c-8f54-62655fb5d787",
   "metadata": {},
   "outputs": [],
   "source": [
    "high_data_transfer = df[df[\"Bytes_Sent\"] > 5000]"
   ]
  },
  {
   "cell_type": "code",
   "execution_count": null,
   "id": "07471198-cfb3-4f03-8510-b0d415befa3c",
   "metadata": {},
   "outputs": [],
   "source": [
    "# Display the first few rows"
   ]
  },
  {
   "cell_type": "code",
   "execution_count": 26,
   "id": "fbc1835b-c35a-4be2-847d-ad3ea21e6937",
   "metadata": {},
   "outputs": [
    {
     "name": "stdout",
     "output_type": "stream",
     "text": [
      "             Timestamp     Source_IP  Destination_IP Protocol   Port  \\\n",
      "0  2025-03-19 13:04:10     10.0.0.15    192.168.1.20      TCP    NaN   \n",
      "2  2025-03-19 13:03:10      10.0.0.5    203.0.113.99     HTTP  443.0   \n",
      "4  2025-03-19 13:02:10   192.168.1.4  172.217.169.46      FTP    NaN   \n",
      "5  2025-03-19 13:01:40     10.0.0.43  172.217.169.46      DNS   53.0   \n",
      "7  2025-03-19 13:00:40  192.168.1.36    192.168.1.20      TCP   21.0   \n",
      "\n",
      "   Bytes_Sent  Bytes_Received   Status Threat_Level  \n",
      "0        5411            8989  Blocked          Low  \n",
      "2        6360           10852  Allowed       Medium  \n",
      "4        5254            8718  Blocked       Medium  \n",
      "5        6915           12981  Allowed          Low  \n",
      "7        5655             119  Allowed       Medium  \n"
     ]
    }
   ],
   "source": [
    "print(high_data_transfer.head())"
   ]
  },
  {
   "cell_type": "code",
   "execution_count": null,
   "id": "b9220847-01c2-43bd-8ec6-b33b6f9aa265",
   "metadata": {},
   "outputs": [],
   "source": [
    "# Show the number of such event"
   ]
  },
  {
   "cell_type": "code",
   "execution_count": 27,
   "id": "3a9f37bf-8b70-4368-8c74-4fa6c207c7e9",
   "metadata": {},
   "outputs": [
    {
     "name": "stdout",
     "output_type": "stream",
     "text": [
      "number of high-data transfers: 518\n"
     ]
    }
   ],
   "source": [
    "print(f\"number of high-data transfers: {len(high_data_transfer)}\")"
   ]
  },
  {
   "cell_type": "code",
   "execution_count": null,
   "id": "f43fdb37-06d6-42e9-bb60-44bdb350f9fe",
   "metadata": {},
   "outputs": [],
   "source": [
    "# Select features (X) - exclude the target variable"
   ]
  },
  {
   "cell_type": "code",
   "execution_count": 28,
   "id": "f74b11e1-7d8e-4473-ba60-76edc0c0694b",
   "metadata": {},
   "outputs": [],
   "source": [
    "X = df.drop(columns=[\"Threat_Level\"])"
   ]
  },
  {
   "cell_type": "code",
   "execution_count": null,
   "id": "8b40d193-0257-4996-9083-926af3020849",
   "metadata": {},
   "outputs": [],
   "source": [
    "# Select the target variable (y)"
   ]
  },
  {
   "cell_type": "code",
   "execution_count": 29,
   "id": "f3f642da-983a-4f88-b37e-3eee8af757fd",
   "metadata": {},
   "outputs": [],
   "source": [
    "y = df[\"Threat_Level\"]"
   ]
  },
  {
   "cell_type": "code",
   "execution_count": null,
   "id": "1c2acafc-03f7-4fbd-8c65-287837f50d7a",
   "metadata": {},
   "outputs": [],
   "source": [
    "# Display the first few rows of X and y"
   ]
  },
  {
   "cell_type": "code",
   "execution_count": 31,
   "id": "7b2ddee9-912e-43e6-8851-79370e763254",
   "metadata": {
    "editable": true,
    "scrolled": true,
    "slideshow": {
     "slide_type": ""
    },
    "tags": []
   },
   "outputs": [
    {
     "name": "stdout",
     "output_type": "stream",
     "text": [
      "features (X):\n",
      "             Timestamp     Source_IP  Destination_IP Protocol   Port  \\\n",
      "0  2025-03-19 13:04:10     10.0.0.15    192.168.1.20      TCP    NaN   \n",
      "1  2025-03-19 13:03:40  192.168.1.13  172.217.169.46     ICMP  443.0   \n",
      "2  2025-03-19 13:03:10      10.0.0.5    203.0.113.99     HTTP  443.0   \n",
      "3  2025-03-19 13:02:40      10.0.0.9    192.168.1.20      TCP    NaN   \n",
      "4  2025-03-19 13:02:10   192.168.1.4  172.217.169.46      FTP    NaN   \n",
      "\n",
      "   Bytes_Sent  Bytes_Received   Status  \n",
      "0        5411            8989  Blocked  \n",
      "1        4999           11808  Allowed  \n",
      "2        6360           10852  Allowed  \n",
      "3        4011           14314  Blocked  \n",
      "4        5254            8718  Blocked  \n"
     ]
    }
   ],
   "source": [
    "print(\"features (X):\")\n",
    "print(X.head())"
   ]
  },
  {
   "cell_type": "code",
   "execution_count": 32,
   "id": "690c8783-7acf-4b4d-8d9a-6647d2708a39",
   "metadata": {},
   "outputs": [
    {
     "name": "stdout",
     "output_type": "stream",
     "text": [
      "\n",
      "Target Variable (y):\n",
      "0       Low\n",
      "1    Medium\n",
      "2    Medium\n",
      "3       Low\n",
      "4    Medium\n",
      "Name: Threat_Level, dtype: object\n"
     ]
    }
   ],
   "source": [
    "print(\"\\nTarget Variable (y):\")\n",
    "print(y.head())"
   ]
  },
  {
   "cell_type": "code",
   "execution_count": null,
   "id": "1518a047-7b0f-418c-9c2d-07a0a56bdfc9",
   "metadata": {},
   "outputs": [],
   "source": [
    "# Remove the 'Timestamp' column"
   ]
  },
  {
   "cell_type": "code",
   "execution_count": 33,
   "id": "2c37b93d-0f77-47f6-89a1-3f309f04df5a",
   "metadata": {},
   "outputs": [],
   "source": [
    "df = df.drop(columns=[\"Timestamp\"])"
   ]
  },
  {
   "cell_type": "code",
   "execution_count": null,
   "id": "73b0431d-5832-432f-b6e6-c59ef84348ca",
   "metadata": {},
   "outputs": [],
   "source": [
    "# Display the first few rows to comfirm"
   ]
  },
  {
   "cell_type": "code",
   "execution_count": 34,
   "id": "d6d719d3-53a1-4d67-b0aa-bfa4827acba1",
   "metadata": {
    "editable": true,
    "slideshow": {
     "slide_type": ""
    },
    "tags": []
   },
   "outputs": [
    {
     "name": "stdout",
     "output_type": "stream",
     "text": [
      "      Source_IP  Destination_IP Protocol   Port  Bytes_Sent  Bytes_Received  \\\n",
      "0     10.0.0.15    192.168.1.20      TCP    NaN        5411            8989   \n",
      "1  192.168.1.13  172.217.169.46     ICMP  443.0        4999           11808   \n",
      "2      10.0.0.5    203.0.113.99     HTTP  443.0        6360           10852   \n",
      "3      10.0.0.9    192.168.1.20      TCP    NaN        4011           14314   \n",
      "4   192.168.1.4  172.217.169.46      FTP    NaN        5254            8718   \n",
      "\n",
      "    Status Threat_Level  \n",
      "0  Blocked          Low  \n",
      "1  Allowed       Medium  \n",
      "2  Allowed       Medium  \n",
      "3  Blocked          Low  \n",
      "4  Blocked       Medium  \n"
     ]
    }
   ],
   "source": [
    "print(df.head())"
   ]
  },
  {
   "cell_type": "code",
   "execution_count": null,
   "id": "52497984-e91a-4199-8f8d-f6e38febb35a",
   "metadata": {},
   "outputs": [],
   "source": []
  }
 ],
 "metadata": {
  "kernelspec": {
   "display_name": "Python 3 (ipykernel)",
   "language": "python",
   "name": "python3"
  },
  "language_info": {
   "codemirror_mode": {
    "name": "ipython",
    "version": 3
   },
   "file_extension": ".py",
   "mimetype": "text/x-python",
   "name": "python",
   "nbconvert_exporter": "python",
   "pygments_lexer": "ipython3",
   "version": "3.12.5"
  }
 },
 "nbformat": 4,
 "nbformat_minor": 5
}
